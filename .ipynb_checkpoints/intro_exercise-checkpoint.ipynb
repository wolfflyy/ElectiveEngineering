{
 "cells": [
  {
   "cell_type": "markdown",
   "id": "7d2fd0c5-c338-4452-9724-54bd34d5d548",
   "metadata": {},
   "source": [
    "## Basic mathematical operations\n",
    "Run the cells below and practice"
   ]
  },
  {
   "cell_type": "code",
   "execution_count": 1,
   "id": "4be40a62-94eb-4392-aabc-ac268998516f",
   "metadata": {},
   "outputs": [
    {
     "data": {
      "text/plain": [
       "6"
      ]
     },
     "execution_count": 1,
     "metadata": {},
     "output_type": "execute_result"
    }
   ],
   "source": [
    "1+5"
   ]
  },
  {
   "cell_type": "code",
   "execution_count": 2,
   "id": "a139d0c1-6ac7-4a7b-88ac-7d597098bd09",
   "metadata": {},
   "outputs": [
    {
     "data": {
      "text/plain": [
       "-5"
      ]
     },
     "execution_count": 2,
     "metadata": {},
     "output_type": "execute_result"
    }
   ],
   "source": [
    "5-10"
   ]
  },
  {
   "cell_type": "code",
   "execution_count": 3,
   "id": "9016796a-6d28-44f1-bf2a-20b112c87178",
   "metadata": {},
   "outputs": [
    {
     "data": {
      "text/plain": [
       "5.0"
      ]
     },
     "execution_count": 3,
     "metadata": {},
     "output_type": "execute_result"
    }
   ],
   "source": [
    "20/4"
   ]
  },
  {
   "cell_type": "code",
   "execution_count": 4,
   "id": "5d716d80-2187-4d3d-b234-0a14f10dccdc",
   "metadata": {},
   "outputs": [
    {
     "data": {
      "text/plain": [
       "10"
      ]
     },
     "execution_count": 4,
     "metadata": {},
     "output_type": "execute_result"
    }
   ],
   "source": [
    "2*5"
   ]
  },
  {
   "cell_type": "code",
   "execution_count": 5,
   "id": "8f2f6004-ddf9-4986-a4b6-61cd902b0182",
   "metadata": {},
   "outputs": [
    {
     "data": {
      "text/plain": [
       "25"
      ]
     },
     "execution_count": 5,
     "metadata": {},
     "output_type": "execute_result"
    }
   ],
   "source": [
    "5**2"
   ]
  },
  {
   "cell_type": "code",
   "execution_count": null,
   "id": "90c6386f-91d0-4096-8296-f53ccb373abc",
   "metadata": {},
   "outputs": [],
   "source": []
  },
  {
   "cell_type": "markdown",
   "id": "2581ecd5-609f-4722-a593-b6d39edef4a2",
   "metadata": {},
   "source": [
    "## Division\n",
    "Run the cells below and try to understand the difference between them"
   ]
  },
  {
   "cell_type": "code",
   "execution_count": 6,
   "id": "c1c3b16a-3f78-435c-a9b4-68f17a891c88",
   "metadata": {},
   "outputs": [
    {
     "data": {
      "text/plain": [
       "2.6666666666666665"
      ]
     },
     "execution_count": 6,
     "metadata": {},
     "output_type": "execute_result"
    }
   ],
   "source": [
    "8 / 3\n"
   ]
  },
  {
   "cell_type": "code",
   "execution_count": 7,
   "id": "10477cc9-53cb-42dd-9496-f9a69049b75d",
   "metadata": {},
   "outputs": [
    {
     "data": {
      "text/plain": [
       "2.6666666666666665"
      ]
     },
     "execution_count": 7,
     "metadata": {},
     "output_type": "execute_result"
    }
   ],
   "source": [
    "8.0 / 3\n"
   ]
  },
  {
   "cell_type": "code",
   "execution_count": 8,
   "id": "b00c752d-27d3-4e87-b081-304ef9cefac8",
   "metadata": {},
   "outputs": [
    {
     "data": {
      "text/plain": [
       "2.6666666666666665"
      ]
     },
     "execution_count": 8,
     "metadata": {},
     "output_type": "execute_result"
    }
   ],
   "source": [
    "8.0 / 3.0\n"
   ]
  },
  {
   "cell_type": "code",
   "execution_count": 9,
   "id": "9d086e16-35a6-4d71-8a69-855ef8f536c1",
   "metadata": {},
   "outputs": [
    {
     "data": {
      "text/plain": [
       "2"
      ]
     },
     "execution_count": 9,
     "metadata": {},
     "output_type": "execute_result"
    }
   ],
   "source": [
    "8 // 3\n"
   ]
  },
  {
   "cell_type": "code",
   "execution_count": 10,
   "id": "d460f85f-14e3-4c81-95c2-eca6dc2429f1",
   "metadata": {},
   "outputs": [
    {
     "data": {
      "text/plain": [
       "2"
      ]
     },
     "execution_count": 10,
     "metadata": {},
     "output_type": "execute_result"
    }
   ],
   "source": [
    "8%3"
   ]
  },
  {
   "cell_type": "code",
   "execution_count": 11,
   "id": "df97c951-8baf-4071-978d-1540c5c04689",
   "metadata": {},
   "outputs": [
    {
     "data": {
      "text/plain": [
       "3"
      ]
     },
     "execution_count": 11,
     "metadata": {},
     "output_type": "execute_result"
    }
   ],
   "source": [
    "10 //3"
   ]
  },
  {
   "cell_type": "code",
   "execution_count": 12,
   "id": "1c13bcf2-0752-4523-9b33-e91fa1c6fcb7",
   "metadata": {},
   "outputs": [
    {
     "data": {
      "text/plain": [
       "1"
      ]
     },
     "execution_count": 12,
     "metadata": {},
     "output_type": "execute_result"
    }
   ],
   "source": [
    "10%3"
   ]
  },
  {
   "cell_type": "code",
   "execution_count": null,
   "id": "53fa720b-fbac-4a1e-ad22-0ad7c7d89292",
   "metadata": {},
   "outputs": [],
   "source": []
  },
  {
   "cell_type": "markdown",
   "id": "725e3fa8-e795-41cb-a6e3-2d09175fb5b7",
   "metadata": {},
   "source": [
    "## Variables\n"
   ]
  },
  {
   "cell_type": "markdown",
   "id": "63ea4165-9162-4318-8225-1340f4f2e952",
   "metadata": {},
   "source": [
    "Assign an integer to the variable, then print it."
   ]
  },
  {
   "cell_type": "code",
   "execution_count": 13,
   "id": "b1959370-2b7e-4133-a693-20a2cad49ea8",
   "metadata": {},
   "outputs": [
    {
     "name": "stdout",
     "output_type": "stream",
     "text": [
      "5\n"
     ]
    }
   ],
   "source": [
    "x=5\n",
    "print(x)"
   ]
  },
  {
   "cell_type": "markdown",
   "id": "5b66d0e5-5006-4726-95ce-a5bfa27ff84f",
   "metadata": {},
   "source": [
    "Assign a string to the variable, then print it."
   ]
  },
  {
   "cell_type": "code",
   "execution_count": 14,
   "id": "e1d92387-c6af-4007-8a6e-ce20fbfc1370",
   "metadata": {},
   "outputs": [
    {
     "name": "stdout",
     "output_type": "stream",
     "text": [
      "saturday\n"
     ]
    }
   ],
   "source": [
    "y=\"saturday\"\n",
    "print(y)"
   ]
  },
  {
   "cell_type": "code",
   "execution_count": 15,
   "id": "65199f3f-759d-4f28-acfe-a3485150e522",
   "metadata": {},
   "outputs": [
    {
     "data": {
      "text/plain": [
       "5"
      ]
     },
     "execution_count": 15,
     "metadata": {},
     "output_type": "execute_result"
    }
   ],
   "source": [
    "x"
   ]
  },
  {
   "cell_type": "code",
   "execution_count": 16,
   "id": "34b8690e-dbc6-4b0a-a9ba-4cfbf1f68055",
   "metadata": {},
   "outputs": [
    {
     "data": {
      "text/plain": [
       "7"
      ]
     },
     "execution_count": 16,
     "metadata": {},
     "output_type": "execute_result"
    }
   ],
   "source": [
    "x+2"
   ]
  },
  {
   "cell_type": "code",
   "execution_count": 29,
   "id": "3fb125d6-aecf-476f-b5c4-d5cc2d686d40",
   "metadata": {},
   "outputs": [
    {
     "name": "stdout",
     "output_type": "stream",
     "text": [
      "7\n"
     ]
    }
   ],
   "source": [
    "print(x+2)"
   ]
  },
  {
   "cell_type": "code",
   "execution_count": null,
   "id": "2bf89f31-b8ad-4cbc-92cf-cc098dc8597f",
   "metadata": {},
   "outputs": [],
   "source": []
  },
  {
   "cell_type": "markdown",
   "id": "a69e4767-b3fe-4fde-8c95-e7bed45c8d1c",
   "metadata": {},
   "source": [
    "Fill in the gaps and run the cells"
   ]
  },
  {
   "cell_type": "code",
   "execution_count": 30,
   "id": "39667ec4-7123-4b31-896d-e14130671446",
   "metadata": {},
   "outputs": [
    {
     "data": {
      "text/plain": [
       "100"
      ]
     },
     "execution_count": 30,
     "metadata": {},
     "output_type": "execute_result"
    }
   ],
   "source": [
    "#The output should give 100\n",
    "pandas = 25\n",
    "pythons = 75\n",
    "pandas+pythons"
   ]
  },
  {
   "cell_type": "code",
   "execution_count": 31,
   "id": "4fee142b-c8b3-4c2b-850b-c0f3e7f3c0f4",
   "metadata": {},
   "outputs": [
    {
     "data": {
      "text/plain": [
       "81"
      ]
     },
     "execution_count": 31,
     "metadata": {},
     "output_type": "execute_result"
    }
   ],
   "source": [
    "#The output should give 81\n",
    "anaconda = 9\n",
    "miniconda = 2\n",
    "anaconda**miniconda"
   ]
  },
  {
   "cell_type": "code",
   "execution_count": null,
   "id": "40b35f2a-1021-4386-bd4d-92d3629760cc",
   "metadata": {},
   "outputs": [],
   "source": []
  },
  {
   "cell_type": "code",
   "execution_count": null,
   "id": "c210bffe-0dc1-481d-b429-31a7faec8989",
   "metadata": {},
   "outputs": [],
   "source": []
  },
  {
   "cell_type": "code",
   "execution_count": null,
   "id": "328e20ed-d20b-44c0-a45e-cfb65689dab6",
   "metadata": {},
   "outputs": [],
   "source": []
  },
  {
   "cell_type": "code",
   "execution_count": null,
   "id": "4d7a2715-e9ba-48f1-986d-9dc3cf769c02",
   "metadata": {},
   "outputs": [],
   "source": []
  },
  {
   "cell_type": "markdown",
   "id": "83968f9b-ac34-41f8-a0dc-3f57e335469e",
   "metadata": {},
   "source": [
    "## Find and solve all bugs in every cell and try to understand!"
   ]
  },
  {
   "cell_type": "code",
   "execution_count": 18,
   "id": "265bc72c-f6a5-4416-a60d-f10a994b9dba",
   "metadata": {},
   "outputs": [],
   "source": [
    "name = \"SRH\""
   ]
  },
  {
   "cell_type": "code",
   "execution_count": 19,
   "id": "94d82c33-5b05-430f-91b7-d7a7d8f53c18",
   "metadata": {},
   "outputs": [
    {
     "name": "stdout",
     "output_type": "stream",
     "text": [
      "Hello\n"
     ]
    }
   ],
   "source": [
    "print(\"Hello\")"
   ]
  },
  {
   "cell_type": "code",
   "execution_count": 20,
   "id": "a2014737-9b2b-4ac1-bdfd-ec5f7a5b1fe7",
   "metadata": {},
   "outputs": [
    {
     "name": "stdout",
     "output_type": "stream",
     "text": [
      "Hello SRH SRH\n"
     ]
    }
   ],
   "source": [
    "print(\"Hello\", name, name)\n"
   ]
  },
  {
   "cell_type": "code",
   "execution_count": 28,
   "id": "77f1651d-d151-41a5-9b70-5833ccd5c830",
   "metadata": {},
   "outputs": [
    {
     "name": "stdout",
     "output_type": "stream",
     "text": [
      "Hello SRH \n"
     ]
    }
   ],
   "source": [
    "print('Hello '+ str(name) +' ')"
   ]
  },
  {
   "cell_type": "code",
   "execution_count": 22,
   "id": "1b5c1902-f9f9-4bad-9f7e-a4007fae845d",
   "metadata": {},
   "outputs": [
    {
     "name": "stdout",
     "output_type": "stream",
     "text": [
      "Hello name\n"
     ]
    }
   ],
   "source": [
    "print(\"Hello name\")"
   ]
  },
  {
   "cell_type": "code",
   "execution_count": null,
   "id": "7a49bce8-628f-48ee-8cc7-47be7f0a0064",
   "metadata": {},
   "outputs": [],
   "source": []
  },
  {
   "cell_type": "code",
   "execution_count": null,
   "id": "323406e0-65b0-417b-9ab6-3e4bedc51896",
   "metadata": {},
   "outputs": [],
   "source": []
  },
  {
   "cell_type": "markdown",
   "id": "e0e32f7b-8298-4766-a4e7-3a484ab116be",
   "metadata": {},
   "source": [
    "## Guess the type!"
   ]
  },
  {
   "cell_type": "code",
   "execution_count": 36,
   "id": "f8d1d7da-0673-4ed9-85dc-1d661c0f4fd7",
   "metadata": {},
   "outputs": [],
   "source": [
    "name = \"SRH\" #string"
   ]
  },
  {
   "cell_type": "code",
   "execution_count": 35,
   "id": "ff76a103-a58d-4e7b-a206-918404f2b45a",
   "metadata": {},
   "outputs": [],
   "source": [
    "b=3 #integer"
   ]
  },
  {
   "cell_type": "code",
   "execution_count": 32,
   "id": "970012fe-7a0f-401f-b70c-75b0a5850141",
   "metadata": {},
   "outputs": [
    {
     "data": {
      "text/plain": [
       "str"
      ]
     },
     "execution_count": 32,
     "metadata": {},
     "output_type": "execute_result"
    }
   ],
   "source": [
    "type(name)"
   ]
  },
  {
   "cell_type": "code",
   "execution_count": 33,
   "id": "de7ec801-63be-493b-a08f-c53905bf92d5",
   "metadata": {},
   "outputs": [
    {
     "data": {
      "text/plain": [
       "str"
      ]
     },
     "execution_count": 33,
     "metadata": {},
     "output_type": "execute_result"
    }
   ],
   "source": [
    "type(\"name\")"
   ]
  },
  {
   "cell_type": "code",
   "execution_count": 37,
   "id": "2fe60fb2-715b-4211-a76b-780974e17a0b",
   "metadata": {},
   "outputs": [
    {
     "data": {
      "text/plain": [
       "int"
      ]
     },
     "execution_count": 37,
     "metadata": {},
     "output_type": "execute_result"
    }
   ],
   "source": [
    "type(b)"
   ]
  },
  {
   "cell_type": "code",
   "execution_count": 38,
   "id": "bd5c5970-3ad9-400a-a9e4-48433ba977a3",
   "metadata": {},
   "outputs": [
    {
     "data": {
      "text/plain": [
       "str"
      ]
     },
     "execution_count": 38,
     "metadata": {},
     "output_type": "execute_result"
    }
   ],
   "source": [
    "type(\"b\")"
   ]
  },
  {
   "cell_type": "code",
   "execution_count": 39,
   "id": "78ae318b-6c5a-4968-a4be-83048b7ca789",
   "metadata": {},
   "outputs": [],
   "source": [
    "h=8.0"
   ]
  },
  {
   "cell_type": "code",
   "execution_count": 40,
   "id": "97ac6707-b670-4a0a-a768-0af5c922055a",
   "metadata": {},
   "outputs": [
    {
     "data": {
      "text/plain": [
       "float"
      ]
     },
     "execution_count": 40,
     "metadata": {},
     "output_type": "execute_result"
    }
   ],
   "source": [
    "type(h)"
   ]
  },
  {
   "cell_type": "markdown",
   "id": "cda3ce6a-d41b-4dc7-8bfc-74db041f28d8",
   "metadata": {},
   "source": [
    "# NEW TODAY"
   ]
  },
  {
   "cell_type": "markdown",
   "id": "9b32d44d-4f40-4dbb-89a1-3ce0ea06c069",
   "metadata": {},
   "source": [
    "### STRING, INTERGER, BOOLEAN"
   ]
  },
  {
   "cell_type": "code",
   "execution_count": 41,
   "id": "d145837e-a5bf-44a5-9487-11a29f849159",
   "metadata": {},
   "outputs": [],
   "source": [
    "x=6\n",
    "y=4"
   ]
  },
  {
   "cell_type": "code",
   "execution_count": 42,
   "id": "445e7036-d9ee-4862-bb7e-98234bfeb4b1",
   "metadata": {},
   "outputs": [
    {
     "name": "stdout",
     "output_type": "stream",
     "text": [
      "True\n"
     ]
    }
   ],
   "source": [
    "print(x>y)"
   ]
  },
  {
   "cell_type": "code",
   "execution_count": 43,
   "id": "f4996307-5a0b-47f9-9569-6deeb794c4cb",
   "metadata": {},
   "outputs": [
    {
     "name": "stdout",
     "output_type": "stream",
     "text": [
      "False\n"
     ]
    }
   ],
   "source": [
    "print(x<y)"
   ]
  },
  {
   "cell_type": "code",
   "execution_count": 44,
   "id": "aceb0627-cd18-4a63-a9a6-daca44c73aaf",
   "metadata": {},
   "outputs": [],
   "source": [
    "x_1=6\n",
    "y_1=4"
   ]
  },
  {
   "cell_type": "code",
   "execution_count": 45,
   "id": "c2f4352b-b6aa-4540-a435-ccb2913899b8",
   "metadata": {},
   "outputs": [
    {
     "data": {
      "text/plain": [
       "int"
      ]
     },
     "execution_count": 45,
     "metadata": {},
     "output_type": "execute_result"
    }
   ],
   "source": [
    "type(x_1)"
   ]
  },
  {
   "cell_type": "code",
   "execution_count": 46,
   "id": "7694525d-3e3c-4f20-afba-71525acdcd55",
   "metadata": {},
   "outputs": [
    {
     "data": {
      "text/plain": [
       "bool"
      ]
     },
     "execution_count": 46,
     "metadata": {},
     "output_type": "execute_result"
    }
   ],
   "source": [
    "type(x>y)"
   ]
  },
  {
   "cell_type": "code",
   "execution_count": 70,
   "id": "400a9813-089d-41a0-84f8-de46a85e6341",
   "metadata": {},
   "outputs": [],
   "source": [
    "f = 2.65"
   ]
  },
  {
   "cell_type": "code",
   "execution_count": 71,
   "id": "5e56bcff-2f8d-4c72-9bad-c9660dbf04fd",
   "metadata": {},
   "outputs": [
    {
     "data": {
      "text/plain": [
       "float"
      ]
     },
     "execution_count": 71,
     "metadata": {},
     "output_type": "execute_result"
    }
   ],
   "source": [
    "type(f)"
   ]
  },
  {
   "cell_type": "code",
   "execution_count": 72,
   "id": "12ee7930-ed3c-4881-a12d-f95cc71e8afc",
   "metadata": {},
   "outputs": [
    {
     "data": {
      "text/plain": [
       "2"
      ]
     },
     "execution_count": 72,
     "metadata": {},
     "output_type": "execute_result"
    }
   ],
   "source": [
    "int(f)"
   ]
  },
  {
   "cell_type": "code",
   "execution_count": 75,
   "id": "ea8b2e0e-ad2c-476c-80a5-100b1295cd32",
   "metadata": {},
   "outputs": [],
   "source": [
    "f = int(f)"
   ]
  },
  {
   "cell_type": "code",
   "execution_count": 76,
   "id": "9acb2136-4c17-4c73-bd59-4e692f70b76c",
   "metadata": {},
   "outputs": [
    {
     "data": {
      "text/plain": [
       "int"
      ]
     },
     "execution_count": 76,
     "metadata": {},
     "output_type": "execute_result"
    }
   ],
   "source": [
    "type(f)"
   ]
  },
  {
   "cell_type": "code",
   "execution_count": 60,
   "id": "22e9e48f-3f7a-493b-94a7-d5ca0fd43200",
   "metadata": {},
   "outputs": [
    {
     "data": {
      "text/plain": [
       "True"
      ]
     },
     "execution_count": 60,
     "metadata": {},
     "output_type": "execute_result"
    }
   ],
   "source": [
    "bool(1)"
   ]
  },
  {
   "cell_type": "code",
   "execution_count": 61,
   "id": "e86c9e04-a7b6-49ea-b25f-e3c6e9f6a09a",
   "metadata": {},
   "outputs": [
    {
     "data": {
      "text/plain": [
       "False"
      ]
     },
     "execution_count": 61,
     "metadata": {},
     "output_type": "execute_result"
    }
   ],
   "source": [
    "bool(0)"
   ]
  },
  {
   "cell_type": "markdown",
   "id": "1e0837bc-c2ac-4df5-a653-83038176b877",
   "metadata": {},
   "source": [
    "### True = 1 | False = 0, so simply 1-1, 0-0, 1+1, 0+0, and so on"
   ]
  },
  {
   "cell_type": "code",
   "execution_count": 62,
   "id": "2b094598-9dcb-4be7-871e-c02f692c5c9b",
   "metadata": {},
   "outputs": [
    {
     "data": {
      "text/plain": [
       "0"
      ]
     },
     "execution_count": 62,
     "metadata": {},
     "output_type": "execute_result"
    }
   ],
   "source": [
    "False-False"
   ]
  },
  {
   "cell_type": "code",
   "execution_count": 63,
   "id": "51f27c57-98a8-4a89-b04d-5d6743a3522d",
   "metadata": {},
   "outputs": [
    {
     "data": {
      "text/plain": [
       "2"
      ]
     },
     "execution_count": 63,
     "metadata": {},
     "output_type": "execute_result"
    }
   ],
   "source": [
    "True+True"
   ]
  },
  {
   "cell_type": "code",
   "execution_count": 64,
   "id": "9c898947-3da4-4cb1-970e-fcf976d8a27e",
   "metadata": {},
   "outputs": [
    {
     "data": {
      "text/plain": [
       "0"
      ]
     },
     "execution_count": 64,
     "metadata": {},
     "output_type": "execute_result"
    }
   ],
   "source": [
    "True-True"
   ]
  },
  {
   "cell_type": "code",
   "execution_count": null,
   "id": "b62f72a5-35be-42db-adf1-03b765e56881",
   "metadata": {},
   "outputs": [],
   "source": []
  }
 ],
 "metadata": {
  "kernelspec": {
   "display_name": "Python 3 (ipykernel)",
   "language": "python",
   "name": "python3"
  },
  "language_info": {
   "codemirror_mode": {
    "name": "ipython",
    "version": 3
   },
   "file_extension": ".py",
   "mimetype": "text/x-python",
   "name": "python",
   "nbconvert_exporter": "python",
   "pygments_lexer": "ipython3",
   "version": "3.12.2"
  }
 },
 "nbformat": 4,
 "nbformat_minor": 5
}

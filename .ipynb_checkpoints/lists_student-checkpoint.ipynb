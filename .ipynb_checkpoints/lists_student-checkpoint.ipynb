{
 "cells": [
  {
   "cell_type": "markdown",
   "id": "fdcf45d7",
   "metadata": {},
   "source": [
    "# First operations with lists"
   ]
  },
  {
   "cell_type": "code",
   "execution_count": 1,
   "id": "203d7544",
   "metadata": {},
   "outputs": [],
   "source": [
    "# list creation\n",
    "letters = [\"a\", \"b\", \"c\", \"d\", \"d\"]"
   ]
  },
  {
   "cell_type": "code",
   "execution_count": 2,
   "id": "6656a83c-0a5b-468a-9a8f-daca14185a04",
   "metadata": {},
   "outputs": [
    {
     "data": {
      "text/plain": [
       "list"
      ]
     },
     "execution_count": 2,
     "metadata": {},
     "output_type": "execute_result"
    }
   ],
   "source": [
    "type(letters)"
   ]
  },
  {
   "cell_type": "code",
   "execution_count": 3,
   "id": "3a96f0fa-1f14-4487-98b3-548858bd8f47",
   "metadata": {},
   "outputs": [],
   "source": [
    "a=[]"
   ]
  },
  {
   "cell_type": "code",
   "execution_count": 9,
   "id": "90882b5c-7769-4ae5-b962-91750de07f09",
   "metadata": {},
   "outputs": [
    {
     "data": {
      "text/plain": [
       "list"
      ]
     },
     "execution_count": 9,
     "metadata": {},
     "output_type": "execute_result"
    }
   ],
   "source": [
    "type(a)"
   ]
  },
  {
   "cell_type": "code",
   "execution_count": 30,
   "id": "c0f6dcf4",
   "metadata": {},
   "outputs": [],
   "source": [
    "# add some elements to the list\n",
    "letters.extend([\"g\", \"h\"])\n"
   ]
  },
  {
   "cell_type": "code",
   "execution_count": 31,
   "id": "ca863156-ae3d-432e-9f9f-b8f73827a39b",
   "metadata": {},
   "outputs": [
    {
     "data": {
      "text/plain": [
       "['a', 'b', 'c', 'd', 'd', 'g', 'h', ['g', 'h'], 'g', 'h']"
      ]
     },
     "execution_count": 31,
     "metadata": {},
     "output_type": "execute_result"
    }
   ],
   "source": [
    "letters"
   ]
  },
  {
   "cell_type": "code",
   "execution_count": 27,
   "id": "c42e163c-aa30-4b01-880b-6d9ab499be12",
   "metadata": {},
   "outputs": [],
   "source": [
    "letters.append([\"g\", \"h\"])"
   ]
  },
  {
   "cell_type": "code",
   "execution_count": 28,
   "id": "d664a405-eebb-4868-9013-4125594b431d",
   "metadata": {},
   "outputs": [
    {
     "data": {
      "text/plain": [
       "['a', 'b', 'c', 'd', 'd', 'g', 'h', ['g', 'h']]"
      ]
     },
     "execution_count": 28,
     "metadata": {},
     "output_type": "execute_result"
    }
   ],
   "source": [
    "letters"
   ]
  },
  {
   "cell_type": "code",
   "execution_count": 32,
   "id": "1b21fdbb-075e-4618-813e-5d10b1a4da1f",
   "metadata": {},
   "outputs": [],
   "source": [
    "letters.extend(\"ceci\")"
   ]
  },
  {
   "cell_type": "code",
   "execution_count": 33,
   "id": "813658a5-b6f8-4122-863e-3dcb17479643",
   "metadata": {},
   "outputs": [
    {
     "data": {
      "text/plain": [
       "['a', 'b', 'c', 'd', 'd', 'g', 'h', ['g', 'h'], 'g', 'h', 'c', 'e', 'c', 'i']"
      ]
     },
     "execution_count": 33,
     "metadata": {},
     "output_type": "execute_result"
    }
   ],
   "source": [
    "letters"
   ]
  },
  {
   "cell_type": "code",
   "execution_count": 37,
   "id": "3344705b-a7b3-434a-b05b-b13fd9177c42",
   "metadata": {},
   "outputs": [
    {
     "data": {
      "text/plain": [
       "2"
      ]
     },
     "execution_count": 37,
     "metadata": {},
     "output_type": "execute_result"
    }
   ],
   "source": [
    "len(letters[7])"
   ]
  },
  {
   "cell_type": "code",
   "execution_count": 40,
   "id": "e6f445ab-ffcf-4ef5-8188-e94c50a7640b",
   "metadata": {},
   "outputs": [
    {
     "data": {
      "text/plain": [
       "'g'"
      ]
     },
     "execution_count": 40,
     "metadata": {},
     "output_type": "execute_result"
    }
   ],
   "source": [
    "letters[7][0]"
   ]
  },
  {
   "cell_type": "code",
   "execution_count": 60,
   "id": "bd0c2269-6a12-4d45-9a4f-44e1c5337cd4",
   "metadata": {},
   "outputs": [
    {
     "data": {
      "text/plain": [
       "2"
      ]
     },
     "execution_count": 60,
     "metadata": {},
     "output_type": "execute_result"
    }
   ],
   "source": [
    "letters.count(\"d\")"
   ]
  },
  {
   "cell_type": "code",
   "execution_count": 58,
   "id": "64f6a4a0-f822-44f3-b4bc-c83b14afcfba",
   "metadata": {},
   "outputs": [],
   "source": [
    "del letters[7:13]"
   ]
  },
  {
   "cell_type": "code",
   "execution_count": 59,
   "id": "cb483986-342f-4bb7-b4b2-29bb6456f6da",
   "metadata": {},
   "outputs": [
    {
     "data": {
      "text/plain": [
       "['a', 'b', 'c', 'd', 'd', 'g', 'h', 'i']"
      ]
     },
     "execution_count": 59,
     "metadata": {},
     "output_type": "execute_result"
    }
   ],
   "source": [
    "letters"
   ]
  },
  {
   "cell_type": "code",
   "execution_count": 6,
   "id": "38e8e57c-575a-467f-b814-21d90040fbee",
   "metadata": {},
   "outputs": [],
   "source": [
    "h = \"srh\""
   ]
  },
  {
   "cell_type": "code",
   "execution_count": 8,
   "id": "1db35a41-1d21-4384-a631-5cc297c0fbed",
   "metadata": {},
   "outputs": [
    {
     "data": {
      "text/plain": [
       "'SRH'"
      ]
     },
     "execution_count": 8,
     "metadata": {},
     "output_type": "execute_result"
    }
   ],
   "source": [
    "h.upper()"
   ]
  },
  {
   "cell_type": "code",
   "execution_count": 34,
   "id": "85663f88",
   "metadata": {},
   "outputs": [
    {
     "data": {
      "text/plain": [
       "14"
      ]
     },
     "execution_count": 34,
     "metadata": {},
     "output_type": "execute_result"
    }
   ],
   "source": [
    "# return the length of a list\n",
    "len(letters)"
   ]
  },
  {
   "cell_type": "code",
   "execution_count": 35,
   "id": "42bac045",
   "metadata": {},
   "outputs": [
    {
     "data": {
      "text/plain": [
       "'c'"
      ]
     },
     "execution_count": 35,
     "metadata": {},
     "output_type": "execute_result"
    }
   ],
   "source": [
    "# indexing\n",
    "letters[2]"
   ]
  },
  {
   "cell_type": "code",
   "execution_count": 36,
   "id": "ee182278",
   "metadata": {},
   "outputs": [
    {
     "data": {
      "text/plain": [
       "['g', 'i']"
      ]
     },
     "execution_count": 36,
     "metadata": {},
     "output_type": "execute_result"
    }
   ],
   "source": [
    "letters[-6::5]"
   ]
  },
  {
   "cell_type": "code",
   "execution_count": null,
   "id": "83a0458a",
   "metadata": {},
   "outputs": [],
   "source": [
    "# slicing: \n",
    "\n",
    "\n",
    "# What do you notice?"
   ]
  },
  {
   "cell_type": "code",
   "execution_count": 61,
   "id": "fb74c0d5",
   "metadata": {},
   "outputs": [],
   "source": [
    "p = [(1,2), \"b\", 5.0, \"g\"]"
   ]
  },
  {
   "cell_type": "code",
   "execution_count": 62,
   "id": "7bd9bbb8",
   "metadata": {},
   "outputs": [
    {
     "data": {
      "text/plain": [
       "[(1, 2), 'b', 5.0, 'g']"
      ]
     },
     "execution_count": 62,
     "metadata": {},
     "output_type": "execute_result"
    }
   ],
   "source": [
    "p"
   ]
  },
  {
   "cell_type": "code",
   "execution_count": null,
   "id": "6ff37be9",
   "metadata": {},
   "outputs": [],
   "source": []
  },
  {
   "cell_type": "code",
   "execution_count": null,
   "id": "b3791509",
   "metadata": {},
   "outputs": [],
   "source": []
  },
  {
   "cell_type": "code",
   "execution_count": 49,
   "id": "661bf61b",
   "metadata": {},
   "outputs": [],
   "source": [
    "# List can store values of different types\n",
    "namecounts= [\"Abdullah\", 123, \"Ayesha\", 456]"
   ]
  },
  {
   "cell_type": "code",
   "execution_count": 23,
   "id": "99ed3794-eaf1-4a16-ae60-2d1f9d336048",
   "metadata": {},
   "outputs": [
    {
     "data": {
      "text/plain": [
       "['Abdullah', 123, 'Ayesha', 456]"
      ]
     },
     "execution_count": 23,
     "metadata": {},
     "output_type": "execute_result"
    }
   ],
   "source": [
    "namecounts"
   ]
  },
  {
   "cell_type": "code",
   "execution_count": 41,
   "id": "f8d5dd1b-68fc-4d4c-a38e-49ccc996d37e",
   "metadata": {},
   "outputs": [],
   "source": [
    "# list inside of a list\n",
    "list_srh = [\"g\", 8.0, \"12\", 25, True, [3, 4], 4]"
   ]
  },
  {
   "cell_type": "code",
   "execution_count": 42,
   "id": "e0179cc8-50cc-4ad6-8b99-616f3547035e",
   "metadata": {},
   "outputs": [
    {
     "data": {
      "text/plain": [
       "7"
      ]
     },
     "execution_count": 42,
     "metadata": {},
     "output_type": "execute_result"
    }
   ],
   "source": [
    "len(list_srh)"
   ]
  },
  {
   "cell_type": "code",
   "execution_count": 43,
   "id": "80c454ca-fd0d-40a0-9814-965cfe8b727a",
   "metadata": {},
   "outputs": [
    {
     "data": {
      "text/plain": [
       "3"
      ]
     },
     "execution_count": 43,
     "metadata": {},
     "output_type": "execute_result"
    }
   ],
   "source": [
    "list_srh[5][0]"
   ]
  },
  {
   "cell_type": "code",
   "execution_count": 55,
   "id": "6b7b6edb",
   "metadata": {},
   "outputs": [
    {
     "name": "stdout",
     "output_type": "stream",
     "text": [
      "['Abdullah', 123, 'Ayesha', 456, 'Basel', 'Basel', 'Basel']\n"
     ]
    }
   ],
   "source": [
    "# we can add elements\n",
    "namecounts.append(\"Basel\")\n",
    "print(namecounts)"
   ]
  },
  {
   "cell_type": "code",
   "execution_count": 52,
   "id": "db182150",
   "metadata": {},
   "outputs": [
    {
     "name": "stdout",
     "output_type": "stream",
     "text": [
      "['Abdullah', 123, 'Ayesha', 456]\n"
     ]
    }
   ],
   "source": [
    "# and we can remove elements\n",
    "namecounts.remove(\"Basel\")\n",
    "print(namecounts)"
   ]
  },
  {
   "cell_type": "code",
   "execution_count": 57,
   "id": "526eb5fb",
   "metadata": {},
   "outputs": [
    {
     "name": "stdout",
     "output_type": "stream",
     "text": [
      "['Abdullah', 123, 'Ayesha', 456, 'Basel', 'Basel']\n"
     ]
    }
   ],
   "source": [
    "# we can also remove the last element\n",
    "namecounts.pop()\n",
    "print(namecounts)"
   ]
  },
  {
   "cell_type": "code",
   "execution_count": 56,
   "id": "acffb56a-4b6f-4efc-8c7d-547e00d6aac1",
   "metadata": {},
   "outputs": [
    {
     "name": "stdout",
     "output_type": "stream",
     "text": [
      "['Abdullah', 123, 'Ayesha', 456, 'Basel', 'Basel', 'Basel']\n"
     ]
    }
   ],
   "source": [
    "print(namecounts)"
   ]
  },
  {
   "cell_type": "markdown",
   "id": "ef9bd271",
   "metadata": {},
   "source": [
    "**Note: all three methods pop(), append() and remove() modify the list in-place: this means that the original list is overwritten and replaced by the new one after being modified by the method**"
   ]
  },
  {
   "cell_type": "markdown",
   "id": "9d560bf1",
   "metadata": {},
   "source": [
    "## Manipulating lists"
   ]
  },
  {
   "cell_type": "code",
   "execution_count": null,
   "id": "0595b70c",
   "metadata": {},
   "outputs": [],
   "source": [
    "# searches for and counts the number of an element in a list\n",
    "letters.count(\"d\")"
   ]
  },
  {
   "cell_type": "code",
   "execution_count": null,
   "id": "9e213265",
   "metadata": {},
   "outputs": [],
   "source": []
  },
  {
   "cell_type": "code",
   "execution_count": null,
   "id": "16ae3d3d-c115-4d52-96f8-97458583b30a",
   "metadata": {},
   "outputs": [],
   "source": []
  }
 ],
 "metadata": {
  "kernelspec": {
   "display_name": "Python 3 (ipykernel)",
   "language": "python",
   "name": "python3"
  },
  "language_info": {
   "codemirror_mode": {
    "name": "ipython",
    "version": 3
   },
   "file_extension": ".py",
   "mimetype": "text/x-python",
   "name": "python",
   "nbconvert_exporter": "python",
   "pygments_lexer": "ipython3",
   "version": "3.12.2"
  }
 },
 "nbformat": 4,
 "nbformat_minor": 5
}

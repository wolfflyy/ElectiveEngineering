{
 "cells": [
  {
   "cell_type": "markdown",
   "id": "aaea8336-dc55-42a4-ac1f-c295481164ef",
   "metadata": {},
   "source": [
    "1- Give the correct numbers to a, b and c so all the following if statements result in `True`"
   ]
  },
  {
   "cell_type": "code",
   "execution_count": 2,
   "id": "ee4f3c3e-2c32-46b4-bf24-f8fe31207842",
   "metadata": {},
   "outputs": [
    {
     "name": "stdout",
     "output_type": "stream",
     "text": [
      "True\n",
      "True\n",
      "True\n"
     ]
    }
   ],
   "source": [
    "a = 6\n",
    "b = 3\n",
    "c = 9\n",
    "\n",
    "if a + b == c:\n",
    "    print(True)\n",
    "\n",
    "if a * b == 18 and b * c == 27:\n",
    "    print(True)\n",
    "\n",
    "if a + b * c >= 32:\n",
    "    print(True)"
   ]
  },
  {
   "cell_type": "markdown",
   "id": "9bb5b415-0f65-4d98-a2dd-49ee93b12ef3",
   "metadata": {},
   "source": [
    "2- Fizz Buzz; multiple conditions\n",
    "- get a number from the user\n",
    "- if the number is divisible by 2, print Fizz\n",
    "- if the number is divisible by 5, print Buzz\n",
    "- if the number is divisible by both, print FizzBuzz\n",
    "- if not divisible by either print the number itself with the text \"No Fizz-Buzz it is ...\"\n",
    "\n",
    "HINT: Use modulo operator\n"
   ]
  },
  {
   "cell_type": "code",
   "execution_count": 11,
   "id": "99a51b28-81dd-49b8-a38c-0ca692da22d1",
   "metadata": {},
   "outputs": [
    {
     "name": "stdin",
     "output_type": "stream",
     "text": [
      "give number here 10\n"
     ]
    },
    {
     "name": "stdout",
     "output_type": "stream",
     "text": [
      "Fizz\n"
     ]
    }
   ],
   "source": [
    "a = int(input(\"give number here\"))\n",
    "\n",
    "if a % 2 == 0:\n",
    "    print(\"Fizz\")\n",
    "elif a % 5 == 0:\n",
    "    print(\"Buzz\")\n",
    "elif a % 2 == 0 and a % 5 == 0:\n",
    "    print(\"FizzBuzz\")\n",
    "else:\n",
    "    print(\"no bozo\")"
   ]
  },
  {
   "cell_type": "code",
   "execution_count": null,
   "id": "4cb0e265-51ac-44de-8b71-607d702a9750",
   "metadata": {},
   "outputs": [],
   "source": [
    "a = int(input(\"give number here\"))\n",
    "\n",
    "if a % 2 == 0 and a % 5 == 0:\n",
    "    print(\"FizzBuzz\")\n",
    "elif a % 5 == 0:\n",
    "    print(\"Buzz\")\n",
    "elif a % 2 == 0:\n",
    "    print(\"Fizz\")\n",
    "else:\n",
    "    print(\"no bozo\")"
   ]
  },
  {
   "cell_type": "code",
   "execution_count": null,
   "id": "09177a7c-c586-4ed7-9a2b-5ffac68dd324",
   "metadata": {},
   "outputs": [],
   "source": []
  }
 ],
 "metadata": {
  "kernelspec": {
   "display_name": "Python 3 (ipykernel)",
   "language": "python",
   "name": "python3"
  },
  "language_info": {
   "codemirror_mode": {
    "name": "ipython",
    "version": 3
   },
   "file_extension": ".py",
   "mimetype": "text/x-python",
   "name": "python",
   "nbconvert_exporter": "python",
   "pygments_lexer": "ipython3",
   "version": "3.12.2"
  }
 },
 "nbformat": 4,
 "nbformat_minor": 5
}

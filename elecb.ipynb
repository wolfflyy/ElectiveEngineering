{
 "cells": [
  {
   "cell_type": "markdown",
   "id": "6be5927f-e32d-4593-be53-d8547c0e4c71",
   "metadata": {},
   "source": [
    "# Introduction"
   ]
  },
  {
   "cell_type": "markdown",
   "id": "d119a58e-e944-4616-a88c-84d1191bf054",
   "metadata": {},
   "source": [
    "## print function"
   ]
  },
  {
   "cell_type": "markdown",
   "id": "8b84464a-2272-4061-ab29-aa1fc8d0dfe3",
   "metadata": {},
   "source": [
    "## Some Examples\n",
    "some thing here i guess"
   ]
  },
  {
   "cell_type": "markdown",
   "id": "2bde90a1-12a3-4f32-a071-8c0b9781e571",
   "metadata": {},
   "source": [
    "### To run all the things here after killed the process, run jup again and do \"Run All cells\""
   ]
  },
  {
   "cell_type": "markdown",
   "id": "01279510-9352-4bd7-9cf6-f83e39b0b49f",
   "metadata": {},
   "source": [
    "### To have other values updated after changed, after inputting the new data, the result need to be rerun again"
   ]
  },
  {
   "cell_type": "code",
   "execution_count": 10,
   "id": "7c04437e-33f2-4160-8a68-bfa106162612",
   "metadata": {},
   "outputs": [
    {
     "name": "stdout",
     "output_type": "stream",
     "text": [
      "Hello World\n"
     ]
    }
   ],
   "source": [
    "print(\"Hello World\")\n"
   ]
  },
  {
   "cell_type": "code",
   "execution_count": 11,
   "id": "383be12e-a0f1-4f97-b9b5-b6adc33b9a07",
   "metadata": {},
   "outputs": [
    {
     "data": {
      "text/plain": [
       "12"
      ]
     },
     "execution_count": 11,
     "metadata": {},
     "output_type": "execute_result"
    }
   ],
   "source": [
    "4+4+4"
   ]
  },
  {
   "cell_type": "code",
   "execution_count": 12,
   "id": "e6551320-5ad1-4443-9130-3f1abbc40c59",
   "metadata": {},
   "outputs": [],
   "source": [
    "x=12"
   ]
  },
  {
   "cell_type": "code",
   "execution_count": 13,
   "id": "425afaf5-7e3e-43a4-aa18-f135dd7b5c4a",
   "metadata": {},
   "outputs": [
    {
     "name": "stdout",
     "output_type": "stream",
     "text": [
      "12\n"
     ]
    }
   ],
   "source": [
    "print(x)"
   ]
  },
  {
   "cell_type": "code",
   "execution_count": 14,
   "id": "8c394a1b-f0ba-43d4-af60-54c3f4b9f2d7",
   "metadata": {},
   "outputs": [
    {
     "data": {
      "text/plain": [
       "int"
      ]
     },
     "execution_count": 14,
     "metadata": {},
     "output_type": "execute_result"
    }
   ],
   "source": [
    "type(x)"
   ]
  },
  {
   "cell_type": "code",
   "execution_count": 25,
   "id": "dd290de8-ce21-4b0b-a135-97416ab32263",
   "metadata": {},
   "outputs": [],
   "source": [
    "Kii=('hi there')"
   ]
  },
  {
   "cell_type": "code",
   "execution_count": 26,
   "id": "3a4a5d2c-7b74-4da7-8790-e2758c432502",
   "metadata": {},
   "outputs": [],
   "source": [
    "ki=('hi')"
   ]
  },
  {
   "cell_type": "code",
   "execution_count": 17,
   "id": "2f23ad49-e01d-4f77-a400-8ed1c17de174",
   "metadata": {},
   "outputs": [
    {
     "data": {
      "text/plain": [
       "str"
      ]
     },
     "execution_count": 17,
     "metadata": {},
     "output_type": "execute_result"
    }
   ],
   "source": [
    "type(ki)"
   ]
  },
  {
   "cell_type": "code",
   "execution_count": 18,
   "id": "f52f6ab1-152e-4719-a022-b6fb06c7b6f8",
   "metadata": {},
   "outputs": [
    {
     "data": {
      "text/plain": [
       "('hi', 12)"
      ]
     },
     "execution_count": 18,
     "metadata": {},
     "output_type": "execute_result"
    }
   ],
   "source": [
    "ki,x"
   ]
  },
  {
   "cell_type": "code",
   "execution_count": 19,
   "id": "f0e5072d-de95-4038-8f3d-67bd1bf08f3c",
   "metadata": {},
   "outputs": [
    {
     "data": {
      "text/plain": [
       "(12, 'hi', 12, 'hi')"
      ]
     },
     "execution_count": 19,
     "metadata": {},
     "output_type": "execute_result"
    }
   ],
   "source": [
    "x,ki,x,ki"
   ]
  },
  {
   "cell_type": "code",
   "execution_count": 20,
   "id": "32315816-bec7-42c3-955e-a2b19afe8906",
   "metadata": {},
   "outputs": [
    {
     "name": "stdout",
     "output_type": "stream",
     "text": [
      "12 hi 12 hi\n"
     ]
    }
   ],
   "source": [
    "print(x,ki,x,ki)"
   ]
  },
  {
   "cell_type": "code",
   "execution_count": 21,
   "id": "1583a337-22ec-4f73-b2b4-558e8745d9b5",
   "metadata": {},
   "outputs": [],
   "source": [
    "f = 2.9"
   ]
  },
  {
   "cell_type": "code",
   "execution_count": 22,
   "id": "3117819b-7536-493f-b25f-f970a0b2d354",
   "metadata": {},
   "outputs": [
    {
     "data": {
      "text/plain": [
       "float"
      ]
     },
     "execution_count": 22,
     "metadata": {},
     "output_type": "execute_result"
    }
   ],
   "source": [
    "type(f)"
   ]
  },
  {
   "cell_type": "code",
   "execution_count": 28,
   "id": "b967e308-e6c4-46da-8092-057f17825afb",
   "metadata": {},
   "outputs": [
    {
     "data": {
      "text/plain": [
       "'hi there'"
      ]
     },
     "execution_count": 28,
     "metadata": {},
     "output_type": "execute_result"
    }
   ],
   "source": [
    "Kii"
   ]
  },
  {
   "cell_type": "code",
   "execution_count": 30,
   "id": "567f6bde-8317-41cb-b8c4-d3c25496a10f",
   "metadata": {},
   "outputs": [
    {
     "data": {
      "text/plain": [
       "('hi there', 'hi', 2.9, 12, 'hi', 'hi there', 2.9, 12)"
      ]
     },
     "execution_count": 30,
     "metadata": {},
     "output_type": "execute_result"
    }
   ],
   "source": [
    "Kii, ki, f, x, ki, Kii, f, x"
   ]
  },
  {
   "cell_type": "markdown",
   "id": "ac38fe36-d0cd-4670-ba62-e416386c6743",
   "metadata": {},
   "source": [
    "# NEW THINGS(4/27/2024) HERE"
   ]
  },
  {
   "cell_type": "markdown",
   "id": "4263d1f1-c091-4e34-97ea-76ca5a4e33c7",
   "metadata": {},
   "source": [
    "### Write Things Down Here"
   ]
  },
  {
   "cell_type": "code",
   "execution_count": 33,
   "id": "617355b0-9ea4-4260-bd65-7729d4b3c909",
   "metadata": {},
   "outputs": [],
   "source": [
    "wut = 1+5*5-2+20/2"
   ]
  },
  {
   "cell_type": "code",
   "execution_count": 34,
   "id": "b69c0dfe-33be-4e7a-881f-a7a29432a546",
   "metadata": {},
   "outputs": [
    {
     "data": {
      "text/plain": [
       "float"
      ]
     },
     "execution_count": 34,
     "metadata": {},
     "output_type": "execute_result"
    }
   ],
   "source": [
    "type(wut)"
   ]
  },
  {
   "cell_type": "code",
   "execution_count": 35,
   "id": "ec84ea02-e20a-4a12-8f28-3d3a8f8948ed",
   "metadata": {},
   "outputs": [
    {
     "data": {
      "text/plain": [
       "34.0"
      ]
     },
     "execution_count": 35,
     "metadata": {},
     "output_type": "execute_result"
    }
   ],
   "source": [
    "wut"
   ]
  },
  {
   "cell_type": "code",
   "execution_count": 36,
   "id": "bc89130f-e6f5-4d71-844e-1b62148aac85",
   "metadata": {},
   "outputs": [],
   "source": [
    "s = \"SRH\""
   ]
  },
  {
   "cell_type": "code",
   "execution_count": 37,
   "id": "35ff7f99-d266-4708-b336-04f209aef675",
   "metadata": {},
   "outputs": [],
   "source": [
    "i = \"Hello\""
   ]
  },
  {
   "cell_type": "code",
   "execution_count": 40,
   "id": "38fdebd6-0cdd-400e-987f-bc951e271cf9",
   "metadata": {},
   "outputs": [
    {
     "name": "stdout",
     "output_type": "stream",
     "text": [
      "HelloSRH\n"
     ]
    }
   ],
   "source": [
    "print (i + s)"
   ]
  },
  {
   "cell_type": "code",
   "execution_count": null,
   "id": "4d0de294-942b-4ee6-be6f-7273810e5056",
   "metadata": {},
   "outputs": [],
   "source": []
  }
 ],
 "metadata": {
  "kernelspec": {
   "display_name": "Python 3 (ipykernel)",
   "language": "python",
   "name": "python3"
  },
  "language_info": {
   "codemirror_mode": {
    "name": "ipython",
    "version": 3
   },
   "file_extension": ".py",
   "mimetype": "text/x-python",
   "name": "python",
   "nbconvert_exporter": "python",
   "pygments_lexer": "ipython3",
   "version": "3.12.2"
  }
 },
 "nbformat": 4,
 "nbformat_minor": 5
}

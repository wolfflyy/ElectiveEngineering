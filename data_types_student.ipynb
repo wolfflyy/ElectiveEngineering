{
 "cells": [
  {
   "cell_type": "markdown",
   "id": "f2403db3",
   "metadata": {
    "jp-MarkdownHeadingCollapsed": true
   },
   "source": [
    "# PART 1"
   ]
  },
  {
   "cell_type": "markdown",
   "id": "4b78841a",
   "metadata": {
    "jp-MarkdownHeadingCollapsed": true
   },
   "source": [
    "# 1-Defining a Variable"
   ]
  },
  {
   "cell_type": "code",
   "execution_count": null,
   "id": "71e7ba98",
   "metadata": {},
   "outputs": [],
   "source": [
    "x=\n",
    "y="
   ]
  },
  {
   "cell_type": "code",
   "execution_count": null,
   "id": "bd427b51",
   "metadata": {},
   "outputs": [],
   "source": [
    "print (x > y)"
   ]
  },
  {
   "cell_type": "code",
   "execution_count": null,
   "id": "358395a0",
   "metadata": {},
   "outputs": [],
   "source": []
  },
  {
   "cell_type": "code",
   "execution_count": null,
   "id": "bd235ea3",
   "metadata": {},
   "outputs": [],
   "source": []
  },
  {
   "cell_type": "markdown",
   "id": "60809702",
   "metadata": {
    "jp-MarkdownHeadingCollapsed": true
   },
   "source": [
    "### Variables\n",
    "\n",
    "A variable can have any name as long as it follows the rules. Be creative but \n",
    "\n",
    "try to be as precise as possible! When naming things, please stick to these guidelines:\n",
    "\n",
    "\\- Only use letters\n",
    "\n",
    "\\- Write everything in lowercase\n",
    "\n",
    "\\- Separate words with the underscore character `_`"
   ]
  },
  {
   "cell_type": "code",
   "execution_count": null,
   "id": "387cd4ab",
   "metadata": {},
   "outputs": [],
   "source": [
    "# Can I have numbers in a variable name?"
   ]
  },
  {
   "cell_type": "code",
   "execution_count": null,
   "id": "ade02b37",
   "metadata": {},
   "outputs": [],
   "source": [
    "89_hilal = 3"
   ]
  },
  {
   "cell_type": "code",
   "execution_count": null,
   "id": "903095d1",
   "metadata": {},
   "outputs": [],
   "source": [
    "hilal_89 = 2"
   ]
  },
  {
   "cell_type": "code",
   "execution_count": null,
   "id": "a6ce29bc",
   "metadata": {},
   "outputs": [],
   "source": [
    "type(hilal_89)"
   ]
  },
  {
   "cell_type": "markdown",
   "id": "bc6db178",
   "metadata": {},
   "source": []
  },
  {
   "cell_type": "markdown",
   "id": "1dcb1c6d",
   "metadata": {},
   "source": []
  },
  {
   "cell_type": "code",
   "execution_count": null,
   "id": "fc9f0578",
   "metadata": {},
   "outputs": [],
   "source": []
  },
  {
   "cell_type": "markdown",
   "id": "244db619",
   "metadata": {
    "jp-MarkdownHeadingCollapsed": true
   },
   "source": [
    "# 2-Integer, String, Float and Boolean"
   ]
  },
  {
   "cell_type": "markdown",
   "id": "4aa52294",
   "metadata": {},
   "source": [
    "- Int: a whole number (... -2, -1, 0, 1, 2…)\n",
    "- Float: the real numbers, number with decimals\n",
    "- String: text values\n",
    "- Boolean: used to represent the truth value of an expression"
   ]
  },
  {
   "cell_type": "code",
   "execution_count": null,
   "id": "fca978fc",
   "metadata": {},
   "outputs": [],
   "source": [
    "d = "
   ]
  },
  {
   "cell_type": "code",
   "execution_count": null,
   "id": "973e7b22",
   "metadata": {},
   "outputs": [],
   "source": [
    "type()"
   ]
  },
  {
   "cell_type": "code",
   "execution_count": null,
   "id": "c1c78ee1",
   "metadata": {},
   "outputs": [],
   "source": [
    "e= False"
   ]
  },
  {
   "cell_type": "code",
   "execution_count": null,
   "id": "4c2e80fa",
   "metadata": {},
   "outputs": [],
   "source": [
    "type()"
   ]
  },
  {
   "cell_type": "markdown",
   "id": "76d0ca38",
   "metadata": {
    "jp-MarkdownHeadingCollapsed": true
   },
   "source": [
    "# PART 2"
   ]
  },
  {
   "cell_type": "markdown",
   "id": "92932ded",
   "metadata": {
    "jp-MarkdownHeadingCollapsed": true
   },
   "source": [
    "# 1- Defining strings"
   ]
  },
  {
   "cell_type": "code",
   "execution_count": null,
   "id": "eacb05ab",
   "metadata": {},
   "outputs": [],
   "source": []
  },
  {
   "cell_type": "code",
   "execution_count": null,
   "id": "eda8cdc2",
   "metadata": {},
   "outputs": [],
   "source": [
    "#method 1: single quotes and f string\n",
    "\n",
    "name = 'SRH'\n",
    "\n",
    "print(f\"name: {name}\")"
   ]
  },
  {
   "cell_type": "code",
   "execution_count": null,
   "id": "14318da3",
   "metadata": {},
   "outputs": [],
   "source": [
    "### f string"
   ]
  },
  {
   "cell_type": "code",
   "execution_count": 1,
   "id": "b999e8a2",
   "metadata": {},
   "outputs": [
    {
     "name": "stdout",
     "output_type": "stream",
     "text": [
      "Hello Hilal\n",
      "Result: 35\n",
      "Hi Hilal, you are 35 years old!\n"
     ]
    }
   ],
   "source": [
    "name = 'Hilal'\n",
    "number = 35\n",
    "\n",
    "print(f'Hello {name}')\n",
    "print(f'Result: {number}')\n",
    "print(f'Hi {name}, you are {number} years old!')"
   ]
  },
  {
   "cell_type": "code",
   "execution_count": 2,
   "id": "fa5c9daa",
   "metadata": {},
   "outputs": [
    {
     "name": "stdout",
     "output_type": "stream",
     "text": [
      "\n",
      "Hi! my name is Hilal\n",
      "\n",
      "What's your name ?\n",
      "        \n"
     ]
    }
   ],
   "source": [
    "#method3: Tripple quotes\n",
    "\n",
    "text = '''\n",
    "Hi! my name is Hilal\n",
    "\n",
    "What's your name ?\n",
    "        '''\n",
    "\n",
    "print(text)"
   ]
  },
  {
   "cell_type": "code",
   "execution_count": 5,
   "id": "df7bd44e-8aad-4a63-ae60-4f67f8cc45e4",
   "metadata": {},
   "outputs": [
    {
     "name": "stdout",
     "output_type": "stream",
     "text": [
      "\n",
      "Hi! my name is Hilal\n",
      "\n",
      "\n",
      "\n",
      "\n",
      "What's your name ?\n",
      "        \n"
     ]
    }
   ],
   "source": [
    "text = '''\n",
    "Hi! my name is Hilal\n",
    "\n",
    "\n",
    "\n",
    "\n",
    "What's your name ?\n",
    "        '''\n",
    "\n",
    "print(text)"
   ]
  },
  {
   "cell_type": "markdown",
   "id": "03409f1d",
   "metadata": {
    "jp-MarkdownHeadingCollapsed": true
   },
   "source": [
    "# 2- Substrings"
   ]
  },
  {
   "cell_type": "code",
   "execution_count": 16,
   "id": "05b7d706",
   "metadata": {},
   "outputs": [],
   "source": [
    "name = 'Selma Hadzic'"
   ]
  },
  {
   "cell_type": "code",
   "execution_count": 17,
   "id": "7ae65a53",
   "metadata": {},
   "outputs": [
    {
     "data": {
      "text/plain": [
       "'l'"
      ]
     },
     "execution_count": 17,
     "metadata": {},
     "output_type": "execute_result"
    }
   ],
   "source": [
    "name[2]"
   ]
  },
  {
   "cell_type": "code",
   "execution_count": 7,
   "id": "9a147203-4b43-4e09-a65c-d5ecf47b1c1d",
   "metadata": {},
   "outputs": [
    {
     "data": {
      "text/plain": [
       "' '"
      ]
     },
     "execution_count": 7,
     "metadata": {},
     "output_type": "execute_result"
    }
   ],
   "source": [
    "name[5]"
   ]
  },
  {
   "cell_type": "code",
   "execution_count": null,
   "id": "9d1625f8-86ff-417a-9f0c-eded73650ee2",
   "metadata": {},
   "outputs": [],
   "source": [
    "name[12]"
   ]
  },
  {
   "cell_type": "code",
   "execution_count": 11,
   "id": "b1aded37-c04c-4bf5-a8ca-5e22591b576e",
   "metadata": {},
   "outputs": [
    {
     "data": {
      "text/plain": [
       "'Selm'"
      ]
     },
     "execution_count": 11,
     "metadata": {},
     "output_type": "execute_result"
    }
   ],
   "source": [
    "name[0:4]"
   ]
  },
  {
   "cell_type": "code",
   "execution_count": 12,
   "id": "78048395-b4d5-4938-997a-fac8aa3f5f87",
   "metadata": {},
   "outputs": [
    {
     "data": {
      "text/plain": [
       "'m'"
      ]
     },
     "execution_count": 12,
     "metadata": {},
     "output_type": "execute_result"
    }
   ],
   "source": [
    "name[3:4]"
   ]
  },
  {
   "cell_type": "code",
   "execution_count": 8,
   "id": "aec07b0c",
   "metadata": {},
   "outputs": [
    {
     "data": {
      "text/plain": [
       "'Sel'"
      ]
     },
     "execution_count": 8,
     "metadata": {},
     "output_type": "execute_result"
    }
   ],
   "source": [
    "name[0:3]"
   ]
  },
  {
   "cell_type": "code",
   "execution_count": 9,
   "id": "1b9d2db3",
   "metadata": {},
   "outputs": [
    {
     "data": {
      "text/plain": [
       "'Sel'"
      ]
     },
     "execution_count": 9,
     "metadata": {},
     "output_type": "execute_result"
    }
   ],
   "source": [
    "name[:3]"
   ]
  },
  {
   "cell_type": "code",
   "execution_count": null,
   "id": "e9ed8ca8",
   "metadata": {},
   "outputs": [],
   "source": []
  },
  {
   "cell_type": "code",
   "execution_count": 13,
   "id": "a74a95fe",
   "metadata": {},
   "outputs": [
    {
     "data": {
      "text/plain": [
       "'d'"
      ]
     },
     "execution_count": 13,
     "metadata": {},
     "output_type": "execute_result"
    }
   ],
   "source": [
    "name[-4]"
   ]
  },
  {
   "cell_type": "code",
   "execution_count": 14,
   "id": "ceb8c27e-9bbe-4345-9ae2-bf8fd33605c6",
   "metadata": {},
   "outputs": [
    {
     "data": {
      "text/plain": [
       "'c'"
      ]
     },
     "execution_count": 14,
     "metadata": {},
     "output_type": "execute_result"
    }
   ],
   "source": [
    "name[-1]"
   ]
  },
  {
   "cell_type": "code",
   "execution_count": 15,
   "id": "2e7dfaa9-a6ab-4849-9511-b8c0b360fa65",
   "metadata": {},
   "outputs": [
    {
     "data": {
      "text/plain": [
       "''"
      ]
     },
     "execution_count": 15,
     "metadata": {},
     "output_type": "execute_result"
    }
   ],
   "source": [
    "name[-1:-4]"
   ]
  },
  {
   "cell_type": "code",
   "execution_count": null,
   "id": "fbbbe3c3-1abd-43d8-96f7-399a66fdc137",
   "metadata": {},
   "outputs": [],
   "source": [
    "name[-4:-1]"
   ]
  },
  {
   "cell_type": "code",
   "execution_count": 23,
   "id": "78b82b2d-0ff0-47cd-9ccb-ff3ab213051b",
   "metadata": {},
   "outputs": [
    {
     "data": {
      "text/plain": [
       "'Selma'"
      ]
     },
     "execution_count": 23,
     "metadata": {},
     "output_type": "execute_result"
    }
   ],
   "source": [
    "name[0:-7]"
   ]
  },
  {
   "cell_type": "markdown",
   "id": "6532b948",
   "metadata": {},
   "source": [
    "# 3- String Methods"
   ]
  },
  {
   "cell_type": "code",
   "execution_count": 24,
   "id": "a577aa36",
   "metadata": {},
   "outputs": [],
   "source": [
    "name = ' Manipulating Strings n '"
   ]
  },
  {
   "cell_type": "code",
   "execution_count": 25,
   "id": "31a0f6a5",
   "metadata": {},
   "outputs": [
    {
     "data": {
      "text/plain": [
       "' MANIPULATING STRINGS N '"
      ]
     },
     "execution_count": 25,
     "metadata": {},
     "output_type": "execute_result"
    }
   ],
   "source": [
    "name.upper()"
   ]
  },
  {
   "cell_type": "code",
   "execution_count": 26,
   "id": "047e49a9",
   "metadata": {},
   "outputs": [
    {
     "data": {
      "text/plain": [
       "' Manipulating Strings n '"
      ]
     },
     "execution_count": 26,
     "metadata": {},
     "output_type": "execute_result"
    }
   ],
   "source": [
    "name"
   ]
  },
  {
   "cell_type": "code",
   "execution_count": 27,
   "id": "a50a5a9f-0e54-4b70-8c01-24e2e48d0d6e",
   "metadata": {},
   "outputs": [],
   "source": [
    "name =name.upper()"
   ]
  },
  {
   "cell_type": "code",
   "execution_count": 28,
   "id": "b654dd8f-57f5-463f-a5c7-506cd11e7737",
   "metadata": {},
   "outputs": [
    {
     "data": {
      "text/plain": [
       "' MANIPULATING STRINGS N '"
      ]
     },
     "execution_count": 28,
     "metadata": {},
     "output_type": "execute_result"
    }
   ],
   "source": [
    "name"
   ]
  },
  {
   "cell_type": "code",
   "execution_count": 29,
   "id": "41b69a9c",
   "metadata": {},
   "outputs": [
    {
     "data": {
      "text/plain": [
       "' manipulating strings n '"
      ]
     },
     "execution_count": 29,
     "metadata": {},
     "output_type": "execute_result"
    }
   ],
   "source": [
    "name.lower()"
   ]
  },
  {
   "cell_type": "code",
   "execution_count": 30,
   "id": "dbdcf93e",
   "metadata": {},
   "outputs": [
    {
     "data": {
      "text/plain": [
       "' MANIPULATING STRINGS N '"
      ]
     },
     "execution_count": 30,
     "metadata": {},
     "output_type": "execute_result"
    }
   ],
   "source": [
    "name"
   ]
  },
  {
   "cell_type": "code",
   "execution_count": 31,
   "id": "472760fe-bff5-4da1-aadf-2e51a725e138",
   "metadata": {},
   "outputs": [],
   "source": [
    "name=name.lower()"
   ]
  },
  {
   "cell_type": "code",
   "execution_count": 32,
   "id": "52ff3258-fd4b-4606-82b5-b7a760b9b026",
   "metadata": {},
   "outputs": [
    {
     "data": {
      "text/plain": [
       "' manipulating strings n '"
      ]
     },
     "execution_count": 32,
     "metadata": {},
     "output_type": "execute_result"
    }
   ],
   "source": [
    "name"
   ]
  },
  {
   "cell_type": "code",
   "execution_count": 35,
   "id": "e4a11bd7",
   "metadata": {},
   "outputs": [
    {
     "data": {
      "text/plain": [
       "'manipulating strings n '"
      ]
     },
     "execution_count": 35,
     "metadata": {},
     "output_type": "execute_result"
    }
   ],
   "source": [
    "# removing white space\n",
    "#name.strip()\n",
    "#name.rstrip()\n",
    "name.lstrip()"
   ]
  },
  {
   "cell_type": "code",
   "execution_count": 36,
   "id": "2a39d6b7",
   "metadata": {},
   "outputs": [
    {
     "data": {
      "text/plain": [
       "' Manipulating Strings N '"
      ]
     },
     "execution_count": 36,
     "metadata": {},
     "output_type": "execute_result"
    }
   ],
   "source": [
    "#If I want to capitalize every first letter of all the words?\n",
    "name.title()"
   ]
  },
  {
   "cell_type": "code",
   "execution_count": 37,
   "id": "f4fa1e79",
   "metadata": {},
   "outputs": [
    {
     "data": {
      "text/plain": [
       "['manipulating', 'strings', 'n']"
      ]
     },
     "execution_count": 37,
     "metadata": {},
     "output_type": "execute_result"
    }
   ],
   "source": [
    "name.split()"
   ]
  },
  {
   "cell_type": "markdown",
   "id": "54ad29f4",
   "metadata": {},
   "source": [
    "Some characters in Python require special attention:\n",
    "\n",
    "- \\n - Newline character\n",
    "- \\t - Tabulator\n",
    "- \\\" - literal double quote\n",
    "- \\\\ - Normal, single backslash\n",
    "\n",
    "Example: print(\"Hello! What\\'s up? How are you?\\nI\\'m doing fine.\")"
   ]
  },
  {
   "cell_type": "code",
   "execution_count": 38,
   "id": "3cecca9c",
   "metadata": {},
   "outputs": [
    {
     "name": "stdout",
     "output_type": "stream",
     "text": [
      "Hello! What's up? How are you?\n",
      "I'm doing fine.\n"
     ]
    }
   ],
   "source": [
    "print('Hello! What\\'s up? How are you?\\nI\\'m doing fine.')"
   ]
  },
  {
   "cell_type": "code",
   "execution_count": 43,
   "id": "a1487bd5-e4fb-4052-902c-66377ad8d90f",
   "metadata": {},
   "outputs": [
    {
     "name": "stdout",
     "output_type": "stream",
     "text": [
      "Hello! What's up? How are you?\n",
      "I'm doing fine.\n"
     ]
    }
   ],
   "source": [
    "print(\"Hello! What's up? How are you?\\nI\\'m doing fine.\")"
   ]
  },
  {
   "cell_type": "code",
   "execution_count": 40,
   "id": "b0e92a82",
   "metadata": {},
   "outputs": [
    {
     "name": "stdout",
     "output_type": "stream",
     "text": [
      "Hello! What's up? How are you?\n",
      "I'm doing fine.\n"
     ]
    }
   ],
   "source": [
    "print('Hello! What's up? How are you?\\nI\\'m doing fine.')"
   ]
  },
  {
   "cell_type": "markdown",
   "id": "5aa1e07b",
   "metadata": {},
   "source": [
    "# 4- Input function"
   ]
  },
  {
   "cell_type": "markdown",
   "id": "50857dd5",
   "metadata": {},
   "source": [
    "The programmer can get information from the user with the input() function. This function asks the user to enter a value. Beware that any data from the input function will be saved as a string. So if in order to transform the data to an integer use int(). Here is an example:"
   ]
  },
  {
   "cell_type": "code",
   "execution_count": 44,
   "id": "2f7b2c96",
   "metadata": {},
   "outputs": [
    {
     "name": "stdin",
     "output_type": "stream",
     "text": [
      "What is your name?  SUCC\n"
     ]
    },
    {
     "name": "stdout",
     "output_type": "stream",
     "text": [
      "Hello SUCC, welcome\n"
     ]
    }
   ],
   "source": [
    "who = input('What is your name? ')\n",
    "print(f'Hello {who}, welcome')\n"
   ]
  },
  {
   "cell_type": "code",
   "execution_count": 48,
   "id": "148e8091-7a27-4de7-bb58-62bcd0415152",
   "metadata": {},
   "outputs": [
    {
     "name": "stdin",
     "output_type": "stream",
     "text": [
      "How old are you? 10\n"
     ]
    },
    {
     "ename": "TypeError",
     "evalue": "can only concatenate str (not \"int\") to str",
     "output_type": "error",
     "traceback": [
      "\u001b[1;31m---------------------------------------------------------------------------\u001b[0m",
      "\u001b[1;31mTypeError\u001b[0m                                 Traceback (most recent call last)",
      "Cell \u001b[1;32mIn[48], line 3\u001b[0m\n\u001b[0;32m      1\u001b[0m age \u001b[38;5;241m=\u001b[39m \u001b[38;5;28minput\u001b[39m(\u001b[38;5;124m\"\u001b[39m\u001b[38;5;124mHow old are you?\u001b[39m\u001b[38;5;124m\"\u001b[39m)\n\u001b[1;32m----> 3\u001b[0m age_new\u001b[38;5;241m=\u001b[39m\u001b[43mage\u001b[49m\u001b[38;5;241;43m+\u001b[39;49m\u001b[38;5;241;43m2\u001b[39;49m\n\u001b[0;32m      4\u001b[0m \u001b[38;5;28mprint\u001b[39m(\u001b[38;5;124mf\u001b[39m\u001b[38;5;124m'\u001b[39m\u001b[38;5;124m2 years later  you will be \u001b[39m\u001b[38;5;132;01m{\u001b[39;00mage_new\u001b[38;5;132;01m}\u001b[39;00m\u001b[38;5;124m'\u001b[39m)\n",
      "\u001b[1;31mTypeError\u001b[0m: can only concatenate str (not \"int\") to str"
     ]
    }
   ],
   "source": [
    "age = input(\"How old are you?\")\n",
    "\n",
    "age_new=age+2\n",
    "print(f'2 years later  you will be {age_new}')"
   ]
  },
  {
   "cell_type": "code",
   "execution_count": 47,
   "id": "03d34ba4",
   "metadata": {},
   "outputs": [
    {
     "name": "stdin",
     "output_type": "stream",
     "text": [
      "How old are you? 10\n"
     ]
    },
    {
     "name": "stdout",
     "output_type": "stream",
     "text": [
      "2 years later  you will be 12\n"
     ]
    }
   ],
   "source": [
    "age = int(input(\"How old are you?\"))\n",
    "\n",
    "age_new=age+2\n",
    "print(f'2 years later  you will be {age_new}')"
   ]
  },
  {
   "cell_type": "code",
   "execution_count": 46,
   "id": "dec7b254-f9a7-45d6-aa47-46199b2f67be",
   "metadata": {},
   "outputs": [
    {
     "name": "stdin",
     "output_type": "stream",
     "text": [
      "What is the temperature today?  37\n"
     ]
    },
    {
     "name": "stdout",
     "output_type": "stream",
     "text": [
      "Uhm, today is 37 degrees\n"
     ]
    }
   ],
   "source": [
    "temp = input('What is the temperature today? ')\n",
    "print(f'Uhm, today is {temp} degrees')"
   ]
  },
  {
   "cell_type": "code",
   "execution_count": null,
   "id": "190b2909-2c4f-44df-9d08-b4d963076e4d",
   "metadata": {},
   "outputs": [],
   "source": []
  },
  {
   "cell_type": "code",
   "execution_count": null,
   "id": "81ad4427-4aaf-410a-b30c-7545e2198e39",
   "metadata": {},
   "outputs": [],
   "source": []
  },
  {
   "cell_type": "code",
   "execution_count": null,
   "id": "8a3be0c9-dfeb-48bf-b389-e1f9c1751a0d",
   "metadata": {},
   "outputs": [],
   "source": []
  }
 ],
 "metadata": {
  "kernelspec": {
   "display_name": "Python 3 (ipykernel)",
   "language": "python",
   "name": "python3"
  },
  "language_info": {
   "codemirror_mode": {
    "name": "ipython",
    "version": 3
   },
   "file_extension": ".py",
   "mimetype": "text/x-python",
   "name": "python",
   "nbconvert_exporter": "python",
   "pygments_lexer": "ipython3",
   "version": "3.12.2"
  }
 },
 "nbformat": 4,
 "nbformat_minor": 5
}

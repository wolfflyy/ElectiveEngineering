{
 "cells": [
  {
   "cell_type": "markdown",
   "id": "1afe8a55",
   "metadata": {},
   "source": [
    "**concept\tdescription**\n",
    "\n",
    "- **bool**:\tBuilt-in type that represents the boolean values True and False.\n",
    "- **if**: Python keyword for making a decision.\n",
    "- **==**: Comparison operator that evaluate to a bool value\n",
    "- **indention**: Created with the Tab Key. Used to group statements together to a block of code."
   ]
  },
  {
   "cell_type": "markdown",
   "id": "e7f23a52",
   "metadata": {},
   "source": [
    "### Comparison Operators\n",
    "- **==**\tEqual to\t\n",
    "- **!=**\tNot equal to\t\n",
    "- **<**     Less than\t\n",
    "- **>**\t    Greater Than\t\n",
    "- **<=**\tLess than or Equal to\t\n",
    "- **>=**\tGreater than or Equal to\t"
   ]
  },
  {
   "cell_type": "markdown",
   "id": "ae6989e5",
   "metadata": {},
   "source": [
    "## Let's go to the cinema"
   ]
  },
  {
   "cell_type": "markdown",
   "id": "7e6f0bfe",
   "metadata": {},
   "source": [
    "### 1- Only with if"
   ]
  },
  {
   "cell_type": "markdown",
   "id": "2a327df9",
   "metadata": {},
   "source": [
    "We have an age limit for our movie, If the person is 18 or older than 18, they can watch the movie. Print a message for that"
   ]
  },
  {
   "cell_type": "code",
   "execution_count": 1,
   "id": "30984d56",
   "metadata": {},
   "outputs": [],
   "source": [
    "#Let's define the age variable first\n",
    "age = 16"
   ]
  },
  {
   "cell_type": "code",
   "execution_count": 3,
   "id": "d60b5044",
   "metadata": {},
   "outputs": [
    {
     "name": "stdout",
     "output_type": "stream",
     "text": [
      "Done\n"
     ]
    }
   ],
   "source": [
    "if age :\n",
    "    print\n",
    "print(\"Done\")"
   ]
  },
  {
   "cell_type": "code",
   "execution_count": null,
   "id": "acdd5443",
   "metadata": {},
   "outputs": [],
   "source": []
  },
  {
   "cell_type": "code",
   "execution_count": null,
   "id": "d1fb9bf3",
   "metadata": {},
   "outputs": [],
   "source": []
  },
  {
   "cell_type": "code",
   "execution_count": null,
   "id": "b2510cf7",
   "metadata": {},
   "outputs": [],
   "source": []
  },
  {
   "cell_type": "code",
   "execution_count": null,
   "id": "89e784af",
   "metadata": {},
   "outputs": [],
   "source": []
  },
  {
   "cell_type": "code",
   "execution_count": null,
   "id": "247751b5",
   "metadata": {},
   "outputs": [],
   "source": []
  },
  {
   "cell_type": "code",
   "execution_count": null,
   "id": "afb4283a",
   "metadata": {},
   "outputs": [],
   "source": []
  },
  {
   "cell_type": "code",
   "execution_count": null,
   "id": "74371ace",
   "metadata": {},
   "outputs": [],
   "source": []
  },
  {
   "cell_type": "markdown",
   "id": "5822366b",
   "metadata": {},
   "source": [
    "### 2- Younger than 18"
   ]
  },
  {
   "cell_type": "markdown",
   "id": "a53108c8",
   "metadata": {},
   "source": [
    "Let's write a rejection message for people under 18"
   ]
  },
  {
   "cell_type": "code",
   "execution_count": 23,
   "id": "f0ace8e8",
   "metadata": {},
   "outputs": [
    {
     "name": "stdout",
     "output_type": "stream",
     "text": [
      "you can watch the movie\n",
      "Done\n"
     ]
    }
   ],
   "source": [
    "age = 18\n",
    "if age >= 18:\n",
    "    print('you can watch the movie')\n",
    "    print('Done')\n",
    "else:\n",
    "    print('You are not allowed to watch the movie')\n",
    "    print('Done')"
   ]
  },
  {
   "cell_type": "code",
   "execution_count": null,
   "id": "754ecf35",
   "metadata": {},
   "outputs": [],
   "source": []
  },
  {
   "cell_type": "code",
   "execution_count": null,
   "id": "2cf6a128",
   "metadata": {},
   "outputs": [],
   "source": []
  },
  {
   "cell_type": "code",
   "execution_count": null,
   "id": "e0292a79",
   "metadata": {},
   "outputs": [],
   "source": []
  },
  {
   "cell_type": "code",
   "execution_count": null,
   "id": "5e0ee57d",
   "metadata": {},
   "outputs": [],
   "source": []
  },
  {
   "cell_type": "markdown",
   "id": "a2993d7c",
   "metadata": {},
   "source": [
    "### 3- Let's add one more option"
   ]
  },
  {
   "cell_type": "markdown",
   "id": "6f29b272",
   "metadata": {},
   "source": [
    "If the person is 16 or between 16 and 8 they can watch the movie accompanied by an adult"
   ]
  },
  {
   "cell_type": "code",
   "execution_count": 44,
   "id": "f0b089f7",
   "metadata": {},
   "outputs": [
    {
     "name": "stdout",
     "output_type": "stream",
     "text": [
      "You must be accompanied by an adult\n",
      "Done\n"
     ]
    }
   ],
   "source": [
    "age = 16\n",
    "if age >= 18:\n",
    "    print('you can watch the movie')\n",
    "\n",
    "elif 18 > age >= 16:\n",
    "    print('You must be accompanied by an adult')\n",
    "\n",
    "else: \n",
    "    print(\"It's so joever\");\n",
    "print('Done')"
   ]
  },
  {
   "cell_type": "code",
   "execution_count": null,
   "id": "c6d231ea",
   "metadata": {},
   "outputs": [],
   "source": []
  },
  {
   "cell_type": "code",
   "execution_count": null,
   "id": "e2adf2cc",
   "metadata": {},
   "outputs": [],
   "source": []
  },
  {
   "cell_type": "code",
   "execution_count": null,
   "id": "4a0a5454",
   "metadata": {},
   "outputs": [],
   "source": []
  },
  {
   "cell_type": "markdown",
   "id": "defed2f8",
   "metadata": {},
   "source": [
    "We can have as many elif statements as we want. And optionally we can also have ‘else’. If none of the previous conditions are true, we have else"
   ]
  },
  {
   "cell_type": "code",
   "execution_count": null,
   "id": "ed511dc7",
   "metadata": {},
   "outputs": [],
   "source": []
  },
  {
   "cell_type": "markdown",
   "id": "03fdd60d",
   "metadata": {},
   "source": [
    "### 4- Let’s ask the user"
   ]
  },
  {
   "cell_type": "code",
   "execution_count": 31,
   "id": "cc3cf370",
   "metadata": {},
   "outputs": [
    {
     "name": "stdin",
     "output_type": "stream",
     "text": [
      "What is your age? 2\n"
     ]
    },
    {
     "name": "stdout",
     "output_type": "stream",
     "text": [
      "no movie for you\n",
      "Done\n"
     ]
    }
   ],
   "source": [
    "a = int(input('What is your age?'))\n",
    "\n",
    "if a >= 18:\n",
    "    print('you can watch the movie')\n",
    "elif 18 > a >= 16:\n",
    "    print('you can watch the movie with an adult')\n",
    "else:\n",
    "    print('no movie for you')   \n",
    "print('Done')"
   ]
  },
  {
   "cell_type": "code",
   "execution_count": null,
   "id": "a7157043",
   "metadata": {},
   "outputs": [],
   "source": []
  },
  {
   "cell_type": "markdown",
   "id": "3edba6ec",
   "metadata": {},
   "source": [
    "### 5- Nested"
   ]
  },
  {
   "cell_type": "markdown",
   "id": "b6af8133",
   "metadata": {},
   "source": [
    "Let's ask the customer(18 > a >= 16) if they are accompanied by an adult and add a message depending on the conditon"
   ]
  },
  {
   "cell_type": "code",
   "execution_count": null,
   "id": "6b7d6cb9",
   "metadata": {},
   "outputs": [],
   "source": []
  },
  {
   "cell_type": "code",
   "execution_count": null,
   "id": "090124f6",
   "metadata": {},
   "outputs": [],
   "source": []
  },
  {
   "cell_type": "code",
   "execution_count": 52,
   "id": "f1e97332",
   "metadata": {},
   "outputs": [
    {
     "name": "stdin",
     "output_type": "stream",
     "text": [
      "Please enter your age 15\n"
     ]
    },
    {
     "name": "stdout",
     "output_type": "stream",
     "text": [
      "no movie for you\n",
      "Done\n"
     ]
    }
   ],
   "source": [
    "a = int(input(\"Please enter your age\"))\n",
    "if a >= 18:\n",
    "    print('you can watch the movie')\n",
    "elif 18 > a >= 16:\n",
    "    print('you can watch the movie with an adult')\n",
    "    c = input('an adult with you? Y or N').upper()\n",
    "    if c== \"Y\":\n",
    "        print( 'enjoy')\n",
    "    else:\n",
    "        print('no!')\n",
    "else:\n",
    "    print('no movie for you')   \n",
    "print('Done')\n"
   ]
  },
  {
   "cell_type": "code",
   "execution_count": null,
   "id": "fec1e67b",
   "metadata": {},
   "outputs": [],
   "source": []
  },
  {
   "cell_type": "code",
   "execution_count": null,
   "id": "1fed8dbe",
   "metadata": {},
   "outputs": [],
   "source": []
  },
  {
   "cell_type": "code",
   "execution_count": null,
   "id": "a5addcde",
   "metadata": {},
   "outputs": [],
   "source": []
  },
  {
   "cell_type": "code",
   "execution_count": null,
   "id": "4c6850fe",
   "metadata": {},
   "outputs": [],
   "source": []
  },
  {
   "cell_type": "code",
   "execution_count": null,
   "id": "0fad0ac7",
   "metadata": {},
   "outputs": [],
   "source": []
  },
  {
   "cell_type": "code",
   "execution_count": null,
   "id": "ea376262",
   "metadata": {},
   "outputs": [],
   "source": []
  },
  {
   "cell_type": "markdown",
   "id": "5b6303b7",
   "metadata": {},
   "source": [
    "Boolean operators\n",
    "\n",
    "Operators compare two bool values with each other. Boolean Operators can be used to chain several logical comparisons together.\n",
    "\n",
    "- **and**: True only if both values are True\n",
    "- **or**: True if at least one value is True\n",
    "- **not**: Converts True to False (and the other way around)\tnot True"
   ]
  },
  {
   "cell_type": "code",
   "execution_count": null,
   "id": "5208cd4c",
   "metadata": {},
   "outputs": [],
   "source": []
  },
  {
   "cell_type": "code",
   "execution_count": null,
   "id": "4d76a78e",
   "metadata": {},
   "outputs": [],
   "source": []
  }
 ],
 "metadata": {
  "kernelspec": {
   "display_name": "Python 3 (ipykernel)",
   "language": "python",
   "name": "python3"
  },
  "language_info": {
   "codemirror_mode": {
    "name": "ipython",
    "version": 3
   },
   "file_extension": ".py",
   "mimetype": "text/x-python",
   "name": "python",
   "nbconvert_exporter": "python",
   "pygments_lexer": "ipython3",
   "version": "3.12.2"
  }
 },
 "nbformat": 4,
 "nbformat_minor": 5
}
